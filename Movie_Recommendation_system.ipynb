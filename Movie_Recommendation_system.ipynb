{
  "nbformat": 4,
  "nbformat_minor": 0,
  "metadata": {
    "colab": {
      "provenance": []
    },
    "kernelspec": {
      "name": "python3",
      "display_name": "Python 3"
    },
    "language_info": {
      "name": "python"
    }
  },
  "cells": [
    {
      "cell_type": "code",
      "execution_count": 2,
      "metadata": {
        "id": "Jh-rwcr-w4uF"
      },
      "outputs": [],
      "source": [
        "import numpy as np\n",
        "import pandas as pd\n",
        "import difflib\n",
        "from sklearn.feature_extraction.text import TfidfVectorizer\n",
        "from sklearn.metrics.pairwise import cosine_similarity"
      ]
    },
    {
      "cell_type": "code",
      "source": [
        "df=pd.read_csv('/content/bollywood_movies_with_actors (2).csv')\n",
        "df.head()"
      ],
      "metadata": {
        "colab": {
          "base_uri": "https://localhost:8080/",
          "height": 414
        },
        "id": "7BMzg7SSxpAX",
        "outputId": "47bb397b-5230-49fc-fd7a-4f09ff2f5694"
      },
      "execution_count": 3,
      "outputs": [
        {
          "output_type": "execute_result",
          "data": {
            "text/plain": [
              "      IMDb_ID                            Title    Year  \\\n",
              "0  tt15354916                            Jawan  2023.0   \n",
              "1  tt15748830                       Jaane Jaan  2023.0   \n",
              "2  tt11663228                           Jailer  2023.0   \n",
              "3  tt14993250  Rocky Aur Rani Kii Prem Kahaani  2023.0   \n",
              "4  tt15732324                            OMG 2  2023.0   \n",
              "\n",
              "                                       Genres  \\\n",
              "0                     Action, Crime, Thriller   \n",
              "1                      Crime, Thriller, Drama   \n",
              "2  Action, Crime, Thriller, Comedy, Adventure   \n",
              "3              Comedy, Drama, Family, Romance   \n",
              "4                               Comedy, Drama   \n",
              "\n",
              "                                              Actors  \\\n",
              "0  Shah Rukh Khan, Nayanthara, Vijay Sethupathi, ...   \n",
              "1  Kareena Kapoor Khan, Jaideep Ahlawat, Vijay Va...   \n",
              "2  Rajinikanth, Vinayakan, Vasanth Ravi, Yogi Bab...   \n",
              "3  Alia Bhatt, Ranveer Singh, Jaya Bachchan, Shab...   \n",
              "4  Pankaj Tripathi, Akshay Kumar, Yami Gautam, Pa...   \n",
              "\n",
              "                                            Overview  Rating  \\\n",
              "0  An emotional journey of a prison warden, drive...   7.200   \n",
              "1  When a single mother her teenage daughter beco...   7.117   \n",
              "2  Muthuvel Pandian, a retired, stern yet compass...   6.700   \n",
              "3  Gym-freak brat Rocky falls in love with Rani, ...   6.300   \n",
              "4  Life is bliss until one day Kanti Sharan Mudga...   7.250   \n",
              "\n",
              "                                          Poster_URL  \\\n",
              "0  https://image.tmdb.org/t/p/w500/ddAHq5R52rZSuT...   \n",
              "1  https://image.tmdb.org/t/p/w500/oaUOV9VCNM5Mjr...   \n",
              "2  https://image.tmdb.org/t/p/w500/pTmMxAHqX4vsID...   \n",
              "3  https://image.tmdb.org/t/p/w500/vTQIqlxUkOuyf2...   \n",
              "4  https://image.tmdb.org/t/p/w500/kApiO3oL6t100a...   \n",
              "\n",
              "                                             Reviews  \n",
              "0  I had a lot of fun watching **Jawan**. It is a...  \n",
              "1  aane Jaan is a suspenseful rollercoaster ride ...  \n",
              "2                                                NaN  \n",
              "3                                                NaN  \n",
              "4                                                NaN  "
            ],
            "text/html": [
              "\n",
              "  <div id=\"df-0b68f0d2-e55d-4a56-8ace-315f44177405\" class=\"colab-df-container\">\n",
              "    <div>\n",
              "<style scoped>\n",
              "    .dataframe tbody tr th:only-of-type {\n",
              "        vertical-align: middle;\n",
              "    }\n",
              "\n",
              "    .dataframe tbody tr th {\n",
              "        vertical-align: top;\n",
              "    }\n",
              "\n",
              "    .dataframe thead th {\n",
              "        text-align: right;\n",
              "    }\n",
              "</style>\n",
              "<table border=\"1\" class=\"dataframe\">\n",
              "  <thead>\n",
              "    <tr style=\"text-align: right;\">\n",
              "      <th></th>\n",
              "      <th>IMDb_ID</th>\n",
              "      <th>Title</th>\n",
              "      <th>Year</th>\n",
              "      <th>Genres</th>\n",
              "      <th>Actors</th>\n",
              "      <th>Overview</th>\n",
              "      <th>Rating</th>\n",
              "      <th>Poster_URL</th>\n",
              "      <th>Reviews</th>\n",
              "    </tr>\n",
              "  </thead>\n",
              "  <tbody>\n",
              "    <tr>\n",
              "      <th>0</th>\n",
              "      <td>tt15354916</td>\n",
              "      <td>Jawan</td>\n",
              "      <td>2023.0</td>\n",
              "      <td>Action, Crime, Thriller</td>\n",
              "      <td>Shah Rukh Khan, Nayanthara, Vijay Sethupathi, ...</td>\n",
              "      <td>An emotional journey of a prison warden, drive...</td>\n",
              "      <td>7.200</td>\n",
              "      <td>https://image.tmdb.org/t/p/w500/ddAHq5R52rZSuT...</td>\n",
              "      <td>I had a lot of fun watching **Jawan**. It is a...</td>\n",
              "    </tr>\n",
              "    <tr>\n",
              "      <th>1</th>\n",
              "      <td>tt15748830</td>\n",
              "      <td>Jaane Jaan</td>\n",
              "      <td>2023.0</td>\n",
              "      <td>Crime, Thriller, Drama</td>\n",
              "      <td>Kareena Kapoor Khan, Jaideep Ahlawat, Vijay Va...</td>\n",
              "      <td>When a single mother her teenage daughter beco...</td>\n",
              "      <td>7.117</td>\n",
              "      <td>https://image.tmdb.org/t/p/w500/oaUOV9VCNM5Mjr...</td>\n",
              "      <td>aane Jaan is a suspenseful rollercoaster ride ...</td>\n",
              "    </tr>\n",
              "    <tr>\n",
              "      <th>2</th>\n",
              "      <td>tt11663228</td>\n",
              "      <td>Jailer</td>\n",
              "      <td>2023.0</td>\n",
              "      <td>Action, Crime, Thriller, Comedy, Adventure</td>\n",
              "      <td>Rajinikanth, Vinayakan, Vasanth Ravi, Yogi Bab...</td>\n",
              "      <td>Muthuvel Pandian, a retired, stern yet compass...</td>\n",
              "      <td>6.700</td>\n",
              "      <td>https://image.tmdb.org/t/p/w500/pTmMxAHqX4vsID...</td>\n",
              "      <td>NaN</td>\n",
              "    </tr>\n",
              "    <tr>\n",
              "      <th>3</th>\n",
              "      <td>tt14993250</td>\n",
              "      <td>Rocky Aur Rani Kii Prem Kahaani</td>\n",
              "      <td>2023.0</td>\n",
              "      <td>Comedy, Drama, Family, Romance</td>\n",
              "      <td>Alia Bhatt, Ranveer Singh, Jaya Bachchan, Shab...</td>\n",
              "      <td>Gym-freak brat Rocky falls in love with Rani, ...</td>\n",
              "      <td>6.300</td>\n",
              "      <td>https://image.tmdb.org/t/p/w500/vTQIqlxUkOuyf2...</td>\n",
              "      <td>NaN</td>\n",
              "    </tr>\n",
              "    <tr>\n",
              "      <th>4</th>\n",
              "      <td>tt15732324</td>\n",
              "      <td>OMG 2</td>\n",
              "      <td>2023.0</td>\n",
              "      <td>Comedy, Drama</td>\n",
              "      <td>Pankaj Tripathi, Akshay Kumar, Yami Gautam, Pa...</td>\n",
              "      <td>Life is bliss until one day Kanti Sharan Mudga...</td>\n",
              "      <td>7.250</td>\n",
              "      <td>https://image.tmdb.org/t/p/w500/kApiO3oL6t100a...</td>\n",
              "      <td>NaN</td>\n",
              "    </tr>\n",
              "  </tbody>\n",
              "</table>\n",
              "</div>\n",
              "    <div class=\"colab-df-buttons\">\n",
              "\n",
              "  <div class=\"colab-df-container\">\n",
              "    <button class=\"colab-df-convert\" onclick=\"convertToInteractive('df-0b68f0d2-e55d-4a56-8ace-315f44177405')\"\n",
              "            title=\"Convert this dataframe to an interactive table.\"\n",
              "            style=\"display:none;\">\n",
              "\n",
              "  <svg xmlns=\"http://www.w3.org/2000/svg\" height=\"24px\" viewBox=\"0 -960 960 960\">\n",
              "    <path d=\"M120-120v-720h720v720H120Zm60-500h600v-160H180v160Zm220 220h160v-160H400v160Zm0 220h160v-160H400v160ZM180-400h160v-160H180v160Zm440 0h160v-160H620v160ZM180-180h160v-160H180v160Zm440 0h160v-160H620v160Z\"/>\n",
              "  </svg>\n",
              "    </button>\n",
              "\n",
              "  <style>\n",
              "    .colab-df-container {\n",
              "      display:flex;\n",
              "      gap: 12px;\n",
              "    }\n",
              "\n",
              "    .colab-df-convert {\n",
              "      background-color: #E8F0FE;\n",
              "      border: none;\n",
              "      border-radius: 50%;\n",
              "      cursor: pointer;\n",
              "      display: none;\n",
              "      fill: #1967D2;\n",
              "      height: 32px;\n",
              "      padding: 0 0 0 0;\n",
              "      width: 32px;\n",
              "    }\n",
              "\n",
              "    .colab-df-convert:hover {\n",
              "      background-color: #E2EBFA;\n",
              "      box-shadow: 0px 1px 2px rgba(60, 64, 67, 0.3), 0px 1px 3px 1px rgba(60, 64, 67, 0.15);\n",
              "      fill: #174EA6;\n",
              "    }\n",
              "\n",
              "    .colab-df-buttons div {\n",
              "      margin-bottom: 4px;\n",
              "    }\n",
              "\n",
              "    [theme=dark] .colab-df-convert {\n",
              "      background-color: #3B4455;\n",
              "      fill: #D2E3FC;\n",
              "    }\n",
              "\n",
              "    [theme=dark] .colab-df-convert:hover {\n",
              "      background-color: #434B5C;\n",
              "      box-shadow: 0px 1px 3px 1px rgba(0, 0, 0, 0.15);\n",
              "      filter: drop-shadow(0px 1px 2px rgba(0, 0, 0, 0.3));\n",
              "      fill: #FFFFFF;\n",
              "    }\n",
              "  </style>\n",
              "\n",
              "    <script>\n",
              "      const buttonEl =\n",
              "        document.querySelector('#df-0b68f0d2-e55d-4a56-8ace-315f44177405 button.colab-df-convert');\n",
              "      buttonEl.style.display =\n",
              "        google.colab.kernel.accessAllowed ? 'block' : 'none';\n",
              "\n",
              "      async function convertToInteractive(key) {\n",
              "        const element = document.querySelector('#df-0b68f0d2-e55d-4a56-8ace-315f44177405');\n",
              "        const dataTable =\n",
              "          await google.colab.kernel.invokeFunction('convertToInteractive',\n",
              "                                                    [key], {});\n",
              "        if (!dataTable) return;\n",
              "\n",
              "        const docLinkHtml = 'Like what you see? Visit the ' +\n",
              "          '<a target=\"_blank\" href=https://colab.research.google.com/notebooks/data_table.ipynb>data table notebook</a>'\n",
              "          + ' to learn more about interactive tables.';\n",
              "        element.innerHTML = '';\n",
              "        dataTable['output_type'] = 'display_data';\n",
              "        await google.colab.output.renderOutput(dataTable, element);\n",
              "        const docLink = document.createElement('div');\n",
              "        docLink.innerHTML = docLinkHtml;\n",
              "        element.appendChild(docLink);\n",
              "      }\n",
              "    </script>\n",
              "  </div>\n",
              "\n",
              "\n",
              "    <div id=\"df-d43e9da5-04b1-4519-ac73-30b9c1526d53\">\n",
              "      <button class=\"colab-df-quickchart\" onclick=\"quickchart('df-d43e9da5-04b1-4519-ac73-30b9c1526d53')\"\n",
              "                title=\"Suggest charts\"\n",
              "                style=\"display:none;\">\n",
              "\n",
              "<svg xmlns=\"http://www.w3.org/2000/svg\" height=\"24px\"viewBox=\"0 0 24 24\"\n",
              "     width=\"24px\">\n",
              "    <g>\n",
              "        <path d=\"M19 3H5c-1.1 0-2 .9-2 2v14c0 1.1.9 2 2 2h14c1.1 0 2-.9 2-2V5c0-1.1-.9-2-2-2zM9 17H7v-7h2v7zm4 0h-2V7h2v10zm4 0h-2v-4h2v4z\"/>\n",
              "    </g>\n",
              "</svg>\n",
              "      </button>\n",
              "\n",
              "<style>\n",
              "  .colab-df-quickchart {\n",
              "      --bg-color: #E8F0FE;\n",
              "      --fill-color: #1967D2;\n",
              "      --hover-bg-color: #E2EBFA;\n",
              "      --hover-fill-color: #174EA6;\n",
              "      --disabled-fill-color: #AAA;\n",
              "      --disabled-bg-color: #DDD;\n",
              "  }\n",
              "\n",
              "  [theme=dark] .colab-df-quickchart {\n",
              "      --bg-color: #3B4455;\n",
              "      --fill-color: #D2E3FC;\n",
              "      --hover-bg-color: #434B5C;\n",
              "      --hover-fill-color: #FFFFFF;\n",
              "      --disabled-bg-color: #3B4455;\n",
              "      --disabled-fill-color: #666;\n",
              "  }\n",
              "\n",
              "  .colab-df-quickchart {\n",
              "    background-color: var(--bg-color);\n",
              "    border: none;\n",
              "    border-radius: 50%;\n",
              "    cursor: pointer;\n",
              "    display: none;\n",
              "    fill: var(--fill-color);\n",
              "    height: 32px;\n",
              "    padding: 0;\n",
              "    width: 32px;\n",
              "  }\n",
              "\n",
              "  .colab-df-quickchart:hover {\n",
              "    background-color: var(--hover-bg-color);\n",
              "    box-shadow: 0 1px 2px rgba(60, 64, 67, 0.3), 0 1px 3px 1px rgba(60, 64, 67, 0.15);\n",
              "    fill: var(--button-hover-fill-color);\n",
              "  }\n",
              "\n",
              "  .colab-df-quickchart-complete:disabled,\n",
              "  .colab-df-quickchart-complete:disabled:hover {\n",
              "    background-color: var(--disabled-bg-color);\n",
              "    fill: var(--disabled-fill-color);\n",
              "    box-shadow: none;\n",
              "  }\n",
              "\n",
              "  .colab-df-spinner {\n",
              "    border: 2px solid var(--fill-color);\n",
              "    border-color: transparent;\n",
              "    border-bottom-color: var(--fill-color);\n",
              "    animation:\n",
              "      spin 1s steps(1) infinite;\n",
              "  }\n",
              "\n",
              "  @keyframes spin {\n",
              "    0% {\n",
              "      border-color: transparent;\n",
              "      border-bottom-color: var(--fill-color);\n",
              "      border-left-color: var(--fill-color);\n",
              "    }\n",
              "    20% {\n",
              "      border-color: transparent;\n",
              "      border-left-color: var(--fill-color);\n",
              "      border-top-color: var(--fill-color);\n",
              "    }\n",
              "    30% {\n",
              "      border-color: transparent;\n",
              "      border-left-color: var(--fill-color);\n",
              "      border-top-color: var(--fill-color);\n",
              "      border-right-color: var(--fill-color);\n",
              "    }\n",
              "    40% {\n",
              "      border-color: transparent;\n",
              "      border-right-color: var(--fill-color);\n",
              "      border-top-color: var(--fill-color);\n",
              "    }\n",
              "    60% {\n",
              "      border-color: transparent;\n",
              "      border-right-color: var(--fill-color);\n",
              "    }\n",
              "    80% {\n",
              "      border-color: transparent;\n",
              "      border-right-color: var(--fill-color);\n",
              "      border-bottom-color: var(--fill-color);\n",
              "    }\n",
              "    90% {\n",
              "      border-color: transparent;\n",
              "      border-bottom-color: var(--fill-color);\n",
              "    }\n",
              "  }\n",
              "</style>\n",
              "\n",
              "      <script>\n",
              "        async function quickchart(key) {\n",
              "          const quickchartButtonEl =\n",
              "            document.querySelector('#' + key + ' button');\n",
              "          quickchartButtonEl.disabled = true;  // To prevent multiple clicks.\n",
              "          quickchartButtonEl.classList.add('colab-df-spinner');\n",
              "          try {\n",
              "            const charts = await google.colab.kernel.invokeFunction(\n",
              "                'suggestCharts', [key], {});\n",
              "          } catch (error) {\n",
              "            console.error('Error during call to suggestCharts:', error);\n",
              "          }\n",
              "          quickchartButtonEl.classList.remove('colab-df-spinner');\n",
              "          quickchartButtonEl.classList.add('colab-df-quickchart-complete');\n",
              "        }\n",
              "        (() => {\n",
              "          let quickchartButtonEl =\n",
              "            document.querySelector('#df-d43e9da5-04b1-4519-ac73-30b9c1526d53 button');\n",
              "          quickchartButtonEl.style.display =\n",
              "            google.colab.kernel.accessAllowed ? 'block' : 'none';\n",
              "        })();\n",
              "      </script>\n",
              "    </div>\n",
              "\n",
              "    </div>\n",
              "  </div>\n"
            ],
            "application/vnd.google.colaboratory.intrinsic+json": {
              "type": "dataframe",
              "variable_name": "df",
              "summary": "{\n  \"name\": \"df\",\n  \"rows\": 2104,\n  \"fields\": [\n    {\n      \"column\": \"IMDb_ID\",\n      \"properties\": {\n        \"dtype\": \"string\",\n        \"num_unique_values\": 2104,\n        \"samples\": [\n          \"tt1830786\",\n          \"tt13510660\",\n          \"tt2199330\"\n        ],\n        \"semantic_type\": \"\",\n        \"description\": \"\"\n      }\n    },\n    {\n      \"column\": \"Title\",\n      \"properties\": {\n        \"dtype\": \"string\",\n        \"num_unique_values\": 2067,\n        \"samples\": [\n          \"Company\",\n          \"Attack\",\n          \"Hum Dono\"\n        ],\n        \"semantic_type\": \"\",\n        \"description\": \"\"\n      }\n    },\n    {\n      \"column\": \"Year\",\n      \"properties\": {\n        \"dtype\": \"number\",\n        \"std\": 15.32461589445576,\n        \"min\": 1932.0,\n        \"max\": 2025.0,\n        \"num_unique_values\": 75,\n        \"samples\": [\n          2001.0,\n          1976.0,\n          2010.0\n        ],\n        \"semantic_type\": \"\",\n        \"description\": \"\"\n      }\n    },\n    {\n      \"column\": \"Genres\",\n      \"properties\": {\n        \"dtype\": \"category\",\n        \"num_unique_values\": 464,\n        \"samples\": [\n          \"Drama, Romance\",\n          \"Comedy, Drama, Science Fiction\",\n          \"Horror, Thriller\"\n        ],\n        \"semantic_type\": \"\",\n        \"description\": \"\"\n      }\n    },\n    {\n      \"column\": \"Actors\",\n      \"properties\": {\n        \"dtype\": \"string\",\n        \"num_unique_values\": 2078,\n        \"samples\": [\n          \"Hrithik Roshan, Rani Mukerji, Kareena Kapoor Khan, Satish Shah, Himani Shivpuri\",\n          \"Rakesh Bedi, Seema Deo, Rishi Kapoor, Satyendra Kapoor, Farha Naaz\",\n          \"Emraan Hashmi, Sonal Chauhan, Javed Sheikh, Sameer Kochhar, Vishal Malhotra\"\n        ],\n        \"semantic_type\": \"\",\n        \"description\": \"\"\n      }\n    },\n    {\n      \"column\": \"Overview\",\n      \"properties\": {\n        \"dtype\": \"string\",\n        \"num_unique_values\": 2081,\n        \"samples\": [\n          \"In the arid region of Rajasthan, India; there are two royal families, Mirtagarth and Surjangarh who believes in a religious ritual which states that a warrior from each of these two families will come together annually to have a fierce battle with the winner having to sacrifice a baby buffalo and it will rain in that person's territory. This tradition must be fated to carry on by the future generation as it is a rule of nature set down by their kin.\",\n          \"An unconventional woman, gains immense success in her professional life but things take a turn when she meets a guy, who wants to be a house husband.\",\n          \"4 mental patients formulate the plan to rescue their kidnapped doctor and teach the kidnappers a lesson.\"\n        ],\n        \"semantic_type\": \"\",\n        \"description\": \"\"\n      }\n    },\n    {\n      \"column\": \"Rating\",\n      \"properties\": {\n        \"dtype\": \"number\",\n        \"std\": 1.9062634605147026,\n        \"min\": 0.0,\n        \"max\": 10.0,\n        \"num_unique_values\": 274,\n        \"samples\": [\n          7.714,\n          6.892,\n          6.821\n        ],\n        \"semantic_type\": \"\",\n        \"description\": \"\"\n      }\n    },\n    {\n      \"column\": \"Poster_URL\",\n      \"properties\": {\n        \"dtype\": \"string\",\n        \"num_unique_values\": 2077,\n        \"samples\": [\n          \"https://image.tmdb.org/t/p/w500/5Dn3X97sTB15sBIdX8gkkhqCOyD.jpg\",\n          \"https://image.tmdb.org/t/p/w500/banahHkzFfTQlIriqTbmxw3xvRc.jpg\",\n          \"https://image.tmdb.org/t/p/w500/lQPWcvQiv1D1xBlpnn5o0hepXkX.jpg\"\n        ],\n        \"semantic_type\": \"\",\n        \"description\": \"\"\n      }\n    },\n    {\n      \"column\": \"Reviews\",\n      \"properties\": {\n        \"dtype\": \"category\",\n        \"num_unique_values\": 138,\n        \"samples\": [\n          \"\\\"Kanguva\\\" aspires to be an epic fantasy but falters due to a convoluted narrative and overindulgent direction. Suriya's dual portrayal is commendable, yet the film's excessive length and cacophonous sound design render it a tedious experience. The screenplay meanders, lacking the cohesion necessary to engage the audience fully. Despite its grandiose ambitions, \\\"Kanguva\\\" succumbs to clich\\u00e9d tropes and fails to deliver a compelling cinematic journey.\",\n          \"Hi Nanna is a reaffirming tale of love & resilience which is heartwarming and endearing throughout\\r\\n\\r\\nMy Rating : \\u2b50\\u2b50\\u2b50\\u2b50 (86/100)\\r\\n\\r\\nHi Nanna is a poignant journey of a single father which is heartfelt and feel good in its entirety. Director Shouryuv 's debut film and he has done a marvelous job in telling a well written story. The most beautiful part of the film is it's rich music, scored by Hesham Abdul Wahab. His work definitely enhanced the emotional journey. The screenplay is well done, but many unnecessary scenes seemed forced, just like that idiotic Shruti Hasan song but Nani holds the fort which a charming and magnetic performance and the raw emotions make it a difficult film to dislike. \\r\\n\\r\\nNani is truly admirable because his choices of film needs a lot of praise. He is commendable, be it scenes of him being excited in love or being practical about his situation he shines in all the frames he comes in. The little kid Kiara Khanna cuteness and her innocence is what the film scores high on too. She is just adorable throughout. Mrunal has done a commendable job as for someone who doesn't know the language, her lip sync with the Telugu artist is extremely believable. Priyadarshi and Jayaram fantastic supporting performances.\\r\\n\\r\\nOverall, Hi Nanna is no masterpiece nor a film with minimal flaws, but what it strives to achieve is entertain the audience with a wholesome emotional story and it's does that quite well. Urge you to watch this, if dramatic family movies with romance is your liking. I was pleasantly surprised.\\r\\n\\r\\nX and Instagram : @streamgenx\\n\\nHi Nanna is such a heartwarming watch. Holds your attention from the first frame and surprises you with the twists & turns through the narrative. Has the heart at its right place, evokes laughter, makes you emotional and finally leaves you on a happy note.\\r\\n\\r\\nNani, Mrunal Thakur and Baby Kiara Khanna deliver a formidable performance, that stays with you. It's a love story that will live with the audience for years to come.\\r\\n\\r\\nIt's a MUST watch!\",\n          \"A prodigious Manoj Bajpayee elevates this hard-hitting courtroom drama\\r\\n\\r\\nSirf Ek Bandaa Kaafi Hai is an unsparing and uncompromising courtroom drama based on the life of a God Man and his perfidious adventures. The film is a pretty grounded and honest in terms of its storytelling, which is extremely thought provoking and intense. Baring some moments of dramatizations, the film sticks to facts and doesnt shy away from exposing uncomfortable truths of the case which shook the nation. Deepak Kingrani's dialogues are solid and Arjun Kukreti's cinematography is extremely well done. The score is intriguing and elevates the entire mood of the courtroom drama.\\r\\n\\r\\nThe film is directed by Apoorv Singh Karki, who directed the TVF show Aspirants and its surprising how different is the genre of both. The direction is exemplary of how to try take a well researched case and put life into it through a film. Who better than a marvelous actor like Manoj Baypayee could handle such a purely character driven film, I guess none i can think of. He is a born genius and true gem to the industry and he proves yet again. This man can do no wrong. He just fits into the shoes of PC Solanki and while fighting his own battles of insecurity he never fades off on his conviction. Adrija, actor playing the girl is so good that for most part of the film I thought its real. The moments where she explains the happenings with so much pain and grief literally will give you goosebumps. She has a brilliant future. Vipin Sharma is ruthless and relentless as the defence lawyer while at the same time he agrees with Manoj in the end which is so well showcased. \\r\\n\\r\\nOverall, this is one of the finest hindi original films of this year and Manoj Bajpayee deserves another national award for this. A intense, emotionally investing courtroom film which deserves all your attention and comes with my highest recommendation. \\r\\n\\r\\n\\r\\nInstagram & Twitter : @streamgenx\"\n        ],\n        \"semantic_type\": \"\",\n        \"description\": \"\"\n      }\n    }\n  ]\n}"
            }
          },
          "metadata": {},
          "execution_count": 3
        }
      ]
    },
    {
      "cell_type": "code",
      "source": [
        "df.shape"
      ],
      "metadata": {
        "colab": {
          "base_uri": "https://localhost:8080/"
        },
        "id": "xjUAP82cyVw-",
        "outputId": "78500d35-c1cf-418b-aa76-f0b4baecd831"
      },
      "execution_count": 4,
      "outputs": [
        {
          "output_type": "execute_result",
          "data": {
            "text/plain": [
              "(2104, 9)"
            ]
          },
          "metadata": {},
          "execution_count": 4
        }
      ]
    },
    {
      "cell_type": "code",
      "source": [
        "df.info()"
      ],
      "metadata": {
        "colab": {
          "base_uri": "https://localhost:8080/"
        },
        "id": "Fr814tRuykzP",
        "outputId": "f93aa98e-0fa3-443e-b5e7-a2d50fb0047f"
      },
      "execution_count": 5,
      "outputs": [
        {
          "output_type": "stream",
          "name": "stdout",
          "text": [
            "<class 'pandas.core.frame.DataFrame'>\n",
            "RangeIndex: 2104 entries, 0 to 2103\n",
            "Data columns (total 9 columns):\n",
            " #   Column      Non-Null Count  Dtype  \n",
            "---  ------      --------------  -----  \n",
            " 0   IMDb_ID     2104 non-null   object \n",
            " 1   Title       2104 non-null   object \n",
            " 2   Year        2070 non-null   float64\n",
            " 3   Genres      2029 non-null   object \n",
            " 4   Actors      2081 non-null   object \n",
            " 5   Overview    2081 non-null   object \n",
            " 6   Rating      2104 non-null   float64\n",
            " 7   Poster_URL  2077 non-null   object \n",
            " 8   Reviews     138 non-null    object \n",
            "dtypes: float64(2), object(7)\n",
            "memory usage: 148.1+ KB\n"
          ]
        }
      ]
    },
    {
      "cell_type": "code",
      "source": [
        "selected_features=['Genres','Actors','Overview']\n",
        "print(selected_features)"
      ],
      "metadata": {
        "colab": {
          "base_uri": "https://localhost:8080/"
        },
        "id": "MO66SpFYyY8q",
        "outputId": "afe6e2a6-21c6-4316-e539-f8f5d6347456"
      },
      "execution_count": 7,
      "outputs": [
        {
          "output_type": "stream",
          "name": "stdout",
          "text": [
            "['Genres', 'Actors', 'Overview']\n"
          ]
        }
      ]
    },
    {
      "cell_type": "code",
      "source": [
        "for featur in selected_features:\n",
        "  df[featur]=df[featur].fillna('')"
      ],
      "metadata": {
        "id": "NWkEff0yzEL_"
      },
      "execution_count": 11,
      "outputs": []
    },
    {
      "cell_type": "code",
      "source": [
        "combine_feature=df['Genres']+df['Actors']+df['Overview']\n",
        "print(combine_feature)"
      ],
      "metadata": {
        "colab": {
          "base_uri": "https://localhost:8080/"
        },
        "id": "xCaCT_D-zl69",
        "outputId": "6d6440bf-d12f-4c6d-9d28-34a79062ff7d"
      },
      "execution_count": 12,
      "outputs": [
        {
          "output_type": "stream",
          "name": "stdout",
          "text": [
            "0       Action, Crime, ThrillerShah Rukh Khan, Nayanth...\n",
            "1       Crime, Thriller, DramaKareena Kapoor Khan, Jai...\n",
            "2       Action, Crime, Thriller, Comedy, AdventureRaji...\n",
            "3       Comedy, Drama, Family, RomanceAlia Bhatt, Ranv...\n",
            "4       Comedy, DramaPankaj Tripathi, Akshay Kumar, Ya...\n",
            "                              ...                        \n",
            "2099    Shatrughan Sinha, Reena Roy, Ajit Khan, Premna...\n",
            "2100    DramaLucky Ali, Simone Singh, Achint Kaur, Div...\n",
            "2101    Drama, RomanceSooraj Pancholi, Isabelle Kaif, ...\n",
            "2102    Drama, Fantasy, HorrorSridevi, Sunny Deol, Anu...\n",
            "2103    ComedyGovinda, Sushmita Sen, Rambha, Satish Ka...\n",
            "Length: 2104, dtype: object\n"
          ]
        }
      ]
    },
    {
      "cell_type": "code",
      "source": [
        "vectorizer=TfidfVectorizer()\n",
        "vectors=vectorizer.fit_transform(combine_feature)\n",
        "print(vectors)"
      ],
      "metadata": {
        "colab": {
          "base_uri": "https://localhost:8080/"
        },
        "id": "psd70YMlzxdb",
        "outputId": "7b1d927d-8747-44bf-c771-840f59668c2e"
      },
      "execution_count": 13,
      "outputs": [
        {
          "output_type": "stream",
          "name": "stdout",
          "text": [
            "<Compressed Sparse Row sparse matrix of dtype 'float64'\n",
            "\twith 95240 stored elements and shape (2104, 15972)>\n",
            "  Coords\tValues\n",
            "  (0, 331)\t0.06152878919204941\n",
            "  (0, 3286)\t0.07640164007732751\n",
            "  (0, 14581)\t0.17051490300674693\n",
            "  (0, 12215)\t0.1146160418758167\n",
            "  (0, 7705)\t0.06769711765277747\n",
            "  (0, 9652)\t0.1739791319710641\n",
            "  (0, 15406)\t0.10920572782408122\n",
            "  (0, 12806)\t0.17797829081626812\n",
            "  (0, 3641)\t0.1389577400672883\n",
            "  (0, 10134)\t0.138014247725716\n",
            "  (0, 12438)\t0.10951275128988908\n",
            "  (0, 4560)\t0.20647978725209504\n",
            "  (0, 4713)\t0.1647258496727722\n",
            "  (0, 7330)\t0.10830587414725314\n",
            "  (0, 9930)\t0.03860667050624195\n",
            "  (0, 10850)\t0.1389577400672883\n",
            "  (0, 15593)\t0.19596073293894214\n",
            "  (0, 4479)\t0.1739791319710641\n",
            "  (0, 2263)\t0.06534237948313264\n",
            "  (0, 10449)\t0.1362243532369453\n",
            "  (0, 15327)\t0.18849734512942098\n",
            "  (0, 15696)\t0.09589231560652062\n",
            "  (0, 7668)\t0.17797829081626812\n",
            "  (0, 15153)\t0.0802004644901817\n",
            "  (0, 14708)\t0.1401889484181507\n",
            "  :\t:\n",
            "  (2103, 943)\t0.09195629894138412\n",
            "  (2103, 14052)\t0.26246947738791915\n",
            "  (2103, 4112)\t0.2661726106739083\n",
            "  (2103, 9272)\t0.20717305256492677\n",
            "  (2103, 13719)\t0.11648484916671419\n",
            "  (2103, 242)\t0.07763060138352956\n",
            "  (2103, 12719)\t0.19845716928055537\n",
            "  (2103, 13142)\t0.13511446712187264\n",
            "  (2103, 5809)\t0.12382291418375092\n",
            "  (2103, 8382)\t0.13123473869395957\n",
            "  (2103, 12533)\t0.11245785653532468\n",
            "  (2103, 7639)\t0.13123473869395957\n",
            "  (2103, 6058)\t0.1214560779958749\n",
            "  (2103, 15757)\t0.12511298142993243\n",
            "  (2103, 8259)\t0.12953146249410183\n",
            "  (2103, 234)\t0.15461276048442318\n",
            "  (2103, 1293)\t0.14270436457479574\n",
            "  (2103, 11270)\t0.14598462822120495\n",
            "  (2103, 8258)\t0.1398628709571778\n",
            "  (2103, 2886)\t0.1398628709571778\n",
            "  (2103, 4054)\t0.16073451774845032\n",
            "  (2103, 7783)\t0.1693626500116686\n",
            "  (2103, 8251)\t0.3387253000233372\n",
            "  (2103, 6398)\t0.1693626500116686\n",
            "  (2103, 4770)\t0.1693626500116686\n"
          ]
        }
      ]
    },
    {
      "cell_type": "code",
      "source": [
        "similarity=cosine_similarity(vectors)\n",
        "print(similarity)"
      ],
      "metadata": {
        "colab": {
          "base_uri": "https://localhost:8080/"
        },
        "id": "1851hlXA0QUr",
        "outputId": "3230865b-31d2-4168-d5f4-e8107e0251b4"
      },
      "execution_count": 15,
      "outputs": [
        {
          "output_type": "stream",
          "name": "stdout",
          "text": [
            "[[1.         0.07724295 0.03554594 ... 0.02705108 0.01314039 0.0724895 ]\n",
            " [0.07724295 1.         0.05177126 ... 0.00435429 0.03901305 0.01622565]\n",
            " [0.03554594 0.05177126 1.         ... 0.03173814 0.01278695 0.05264802]\n",
            " ...\n",
            " [0.02705108 0.00435429 0.03173814 ... 1.         0.01196083 0.0163209 ]\n",
            " [0.01314039 0.03901305 0.01278695 ... 0.01196083 1.         0.03234933]\n",
            " [0.0724895  0.01622565 0.05264802 ... 0.0163209  0.03234933 1.        ]]\n"
          ]
        }
      ]
    },
    {
      "cell_type": "code",
      "source": [
        "similarity.shape"
      ],
      "metadata": {
        "colab": {
          "base_uri": "https://localhost:8080/"
        },
        "id": "cZ4LUUuh0VMo",
        "outputId": "8fb1002c-1ccf-47a8-da7b-f0844faf9f6a"
      },
      "execution_count": 17,
      "outputs": [
        {
          "output_type": "execute_result",
          "data": {
            "text/plain": [
              "(2104, 2104)"
            ]
          },
          "metadata": {},
          "execution_count": 17
        }
      ]
    },
    {
      "cell_type": "code",
      "source": [
        "def recommend_movie(movie):\n",
        "  index = df[df['Title'] == movie].index[0]\n",
        "  distances = sorted(list(enumerate(similarity[index])),reverse=True,key = lambda x: x[1])\n",
        "  for i in distances[1:6]:\n",
        "      print(df.iloc[i[0]].Title)"
      ],
      "metadata": {
        "id": "lRsXg-aS0hLy"
      },
      "execution_count": 19,
      "outputs": []
    },
    {
      "cell_type": "code",
      "source": [
        "recommend_movie('Satyaprem Ki Katha')"
      ],
      "metadata": {
        "colab": {
          "base_uri": "https://localhost:8080/"
        },
        "id": "_KljFdxp1KNM",
        "outputId": "7e912c9c-554b-4021-e9e8-68fca1996128"
      },
      "execution_count": 22,
      "outputs": [
        {
          "output_type": "stream",
          "name": "stdout",
          "text": [
            "Luka Chuppi\n",
            "Pati Patni Aur Woh\n",
            "Good Newwz\n",
            "Goliyon Ki Raasleela Ram-Leela\n",
            "Bhool Bhulaiyaa 2\n"
          ]
        }
      ]
    },
    {
      "cell_type": "code",
      "source": [
        "import pickle\n",
        "\n",
        "# Save similarity matrix\n",
        "with open('similarity.pkl', 'wb') as f:\n",
        "    pickle.dump(similarity, f)\n",
        "\n",
        "# Save dataframe with movie details\n",
        "with open('movies_df.pkl', 'wb') as f:\n",
        "    pickle.dump(df, f)\n"
      ],
      "metadata": {
        "id": "h9jVggOt_3qs"
      },
      "execution_count": 23,
      "outputs": []
    }
  ]
}